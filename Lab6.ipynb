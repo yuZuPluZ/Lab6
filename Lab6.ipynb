{
  "nbformat": 4,
  "nbformat_minor": 0,
  "metadata": {
    "colab": {
      "provenance": [],
      "include_colab_link": true
    },
    "kernelspec": {
      "name": "python3",
      "display_name": "Python 3"
    },
    "language_info": {
      "name": "python"
    }
  },
  "cells": [
    {
      "cell_type": "markdown",
      "metadata": {
        "id": "view-in-github",
        "colab_type": "text"
      },
      "source": [
        "<a href=\"https://colab.research.google.com/github/yuZuPluZ/Lab6/blob/main/Lab6.ipynb\" target=\"_parent\"><img src=\"https://colab.research.google.com/assets/colab-badge.svg\" alt=\"Open In Colab\"/></a>"
      ]
    },
    {
      "cell_type": "markdown",
      "source": [
        "Ex. 6.1 ให้เขียนฟังก์ชันชื่อ test_ pangram เพื่อตรวจสอบว่า String ที่รับเข้ามาเป็น pangram หรือไม่ โดย pangram คือ string ที่ประกอบด้วยตัวอักษรทุกตัวในภาษาอังกฤษ (ต้องมีอักษรแต่ละตัวปรากฏอย่างน้อย 1 ครั้ง) เช่น\n",
        "The quick brown fox jumps over the lazy dog\n",
        "รับข้อมูลเป็น string และ return เป็น True หรือ False"
      ],
      "metadata": {
        "id": "g1jKRrPZdrD9"
      }
    },
    {
      "cell_type": "code",
      "execution_count": 20,
      "metadata": {
        "colab": {
          "base_uri": "https://localhost:8080/"
        },
        "id": "oc_mt8z2dluv",
        "outputId": "e702a0e2-f104-4360-c79d-7d573a6d4567"
      },
      "outputs": [
        {
          "output_type": "execute_result",
          "data": {
            "text/plain": [
              "True"
            ]
          },
          "metadata": {},
          "execution_count": 20
        }
      ],
      "source": [
        "def test_pangram(s):\n",
        "  c =\"abcdefghijklmnopqrstuvwxyz\"\n",
        "  s = s.lower()\n",
        "  for i in c:\n",
        "    if i not in s:\n",
        "      return False\n",
        "  return True\n",
        "\n",
        "test_pangram(\"The quick brown fox jumps over the lazy dog\")\n"
      ]
    },
    {
      "cell_type": "markdown",
      "source": [
        "Ex 6.2 จงเขียน โปรแกรมที่รวมผลลัพธ์ ของตัวเลขที่อยู่ใน List โดยกำหนดให้ฟังก์ชัน ชื่อ find_sum(n_list,n) โดย n_list เป็น List ของตัวเลขที่มีความยาว n โดยให้เขียนในแบบ Recursion\n"
      ],
      "metadata": {
        "id": "jsFdK2rreKku"
      }
    },
    {
      "cell_type": "code",
      "source": [
        "def find_sum(n_list, n):\n",
        "    if n == 0:\n",
        "        return 0\n",
        "    else:\n",
        "        return n_list[n - 1] + find_sum(n_list, n - 1)\n",
        "print(find_sum([1, 2, 3, 4, 5, 6, 7, 8, 9, 10], 10))\n"
      ],
      "metadata": {
        "id": "SWhMgyAc0uSI"
      },
      "execution_count": null,
      "outputs": []
    },
    {
      "cell_type": "markdown",
      "source": [
        "Ex 6.3 กำหนดให้ List x เก็บ String และตัวแปร c เก็บตัวอักษร\n",
        "ให้สร้าง List d ที่เก็บจำนวนครั้งที่ตัวอักษรใน c ปรากฏในแต่ละ String ของ List x โดยใช้ List comprehension\n",
        "\n",
        "- เช่น x = [‘abba’, ‘babana’, ‘ann’]; c = ‘a’\n",
        "- จะได้ d = [2, 3, 1]\n",
        "\n",
        "ให้เขียนในฟังก์ชัน count_char_in_string(x,c) แล้ว return เป็น List คำตอบ"
      ],
      "metadata": {
        "id": "S9FRT-zz05-A"
      }
    },
    {
      "cell_type": "code",
      "source": [
        "def count_char_in_string(x, c):\n",
        "  new_lst = [char.count(c) for char in x]\n",
        "  print(new_lst)\n",
        "\n",
        "count_char_in_string(['abba', 'babana', 'ann'],'a') #=> [2, 3, 1]\n",
        "count_char_in_string(['apple', 'banana', 'cherry'],'a') #=> [1, 3, 1]\n",
        "count_char_in_string(['dog', 'cat', 'fish'],'z') #=> [0, 0, 0]\n",
        "count_char_in_string(['abc', 'bcb', 'cab'],'b') #=> [1, 2, 1]\n",
        "count_char_in_string(['', 'a', ''],'a') #=> [0, 1, 0]\n",
        "count_char_in_string(['@home', '#hash', 'space '],'#') #=> [0, 1, 0]\n"
      ],
      "metadata": {
        "id": "yQZQFVa01JPs",
        "outputId": "06b2b434-31f6-4039-833c-220f8c47a930",
        "colab": {
          "base_uri": "https://localhost:8080/"
        }
      },
      "execution_count": 57,
      "outputs": [
        {
          "output_type": "stream",
          "name": "stdout",
          "text": [
            "[2, 3, 1]\n",
            "[1, 3, 0]\n",
            "[0, 0, 0]\n",
            "[1, 2, 1]\n",
            "[0, 1, 0]\n",
            "[0, 1, 0]\n"
          ]
        }
      ]
    },
    {
      "cell_type": "markdown",
      "source": [
        "Ex 6.4  กำหนดให้ List x เป็น List ของจำนวนเต็ม\n",
        "ให้เขียนโปรแกรมเพื่อลบจำนวนเต็มทุกตัวใน x ที่มีค่าเป็นลบ โดยใช้ List comprehension\n",
        "\n",
        "- เช่น x = [ [1, -3, 2], [-8, 5], [-1, -4, -3] ]\n",
        "- ได้คำตอบเป็น [ [1, 2], [5], [] ]\n",
        "\n",
        "ให้เขียนในฟังก์ชัน delete_minus(x) แล้ว return เป็น List คำตอบ\n",
        "Hint : ถ้าคิดไม่ออกให้ทดลองเขียนแบบปกติก่อน แล้วค่อยลดรูป\n"
      ],
      "metadata": {
        "id": "vRtEJLkP5MLT"
      }
    },
    {
      "cell_type": "code",
      "source": [
        "def delete_minus(x):\n",
        "  new_lst =[[i for i in sublist if i >= 0] for sublist in x]\n",
        "\n",
        "  print(new_lst)\n",
        "\n",
        "\n",
        "delete_minus([[1, -3, 2], [-8, 5], [-1, -4, -3]]) #=> [[1, 2], [5], []]\n",
        "delete_minus([[0, -1, -2], [3, 4, -5], [-6, 7]]) #=> [[0], [3, 4], [7]]\n",
        "delete_minus([[10, -10, 20], [-30, 30], [40, -40]]) #=> [[10, 20], [30], [40]]\n",
        "delete_minus([[1, 2, 3], [4, 5], [6]]) #=> [[1, 2, 3], [4, 5], [6]]\n",
        "delete_minus([[-1, -2, -3], [-4, -5], [-6]])# => [[], [], []]\n",
        "delete_minus([[-10, -20, -30], [-40, -50], [-60]]) #=> [[], [], []]"
      ],
      "metadata": {
        "id": "SDA5CALo5WPK",
        "outputId": "ac0293ff-a783-4a3c-c2d2-8478ea0726c2",
        "colab": {
          "base_uri": "https://localhost:8080/"
        }
      },
      "execution_count": 56,
      "outputs": [
        {
          "output_type": "stream",
          "name": "stdout",
          "text": [
            "[[1, 2], [5], []]\n",
            "[[0], [3, 4], [7]]\n",
            "[[10, 20], [30], [40]]\n",
            "[[1, 2, 3], [4, 5], [6]]\n",
            "[[], [], []]\n",
            "[[], [], []]\n"
          ]
        }
      ]
    },
    {
      "cell_type": "markdown",
      "source": [
        "Ex 6.5 ให้เขียนโปรแกรมเพื่อรับข้อมูล 1 บรรทัด ที่ประกอบด้วยจำนวนเต็มหลายจำนวน\n",
        "\n",
        "*   List item\n",
        "*   List item\n",
        "\n",
        "(คั่นด้วยช่องว่าง)\n",
        "ให้ส่งคืนว่ามีจำนวนที่เป็นลบกี่จำนวน โดยใช้ List comprehension\n",
        "ให้เขียนในฟังก์ชัน count_minus(str) แล้ว return เป็นคำตอบ"
      ],
      "metadata": {
        "id": "nLUpu-7v6MCa"
      }
    },
    {
      "cell_type": "code",
      "source": [
        "def count_minus(str):\n",
        "  new_lst = [int(c) for c in str.split() if int(c) < 0]\n",
        "  print(len(new_lst))\n",
        "\n",
        "count_minus(\"1 2 -3 4 -5\") #=> 2\n",
        "count_minus(\"-1 -2 -3 -4 -5\") #=> 5\n",
        "count_minus(\"1 2 3 4 5\") #=> 0\n",
        "count_minus(\"0 0 0 0 0\") #=> 0\n",
        "count_minus(\"-10 -20 -30 -40 -50\") #=> 5"
      ],
      "metadata": {
        "id": "BO0JESLu9cVj",
        "outputId": "87aa7712-7ad2-491c-a640-d9f92ad463b4",
        "colab": {
          "base_uri": "https://localhost:8080/"
        }
      },
      "execution_count": 82,
      "outputs": [
        {
          "output_type": "stream",
          "name": "stdout",
          "text": [
            "2\n",
            "5\n",
            "0\n",
            "0\n",
            "5\n"
          ]
        }
      ]
    },
    {
      "cell_type": "markdown",
      "source": [
        "Ex 6.6 ให้เขียนโปรแกรมเพื่อรับ string 1 ตัว\n",
        "ให้ส่งคืนเฉพาะตัวอักษรที่เป็นภาษาอังกฤษ โดยใช้ List comprehension\n",
        "ให้เขียนในฟังก์ชัน only_english(string1) แล้ว return เป็นคำตอบเป็น string"
      ],
      "metadata": {
        "id": "18YUhkQ96Fiw"
      }
    },
    {
      "cell_type": "code",
      "source": [
        "def only_english(string1):\n",
        "  new_lst = [cha for cha in string1 if cha.isalpha() or cha == \" \"]\n",
        "  print(\"\".join(new_lst))\n",
        "\n",
        "only_english(\"Hello, World!\") #=> \"Hello World\"\n",
        "only_english(\"This is a test.\") #=> \"This is a test\"\n",
        "only_english(\"12345\") #=> \"\"\n",
        "only_english(\"abcABC123\") #=> \"abcABC\"\n",
        "only_english(\"!@#$%^&*()\") #=> \"\""
      ],
      "metadata": {
        "id": "QM_Vbz-k9shU",
        "outputId": "48842613-65c9-4b36-87a8-c0410c64e85f",
        "colab": {
          "base_uri": "https://localhost:8080/"
        }
      },
      "execution_count": 85,
      "outputs": [
        {
          "output_type": "stream",
          "name": "stdout",
          "text": [
            "Hello World\n",
            "This is a test\n",
            "\n",
            "abcABC\n",
            "\n"
          ]
        }
      ]
    },
    {
      "cell_type": "markdown",
      "source": [
        "Ex 6.7 กำหนดให้ list x และ y เป็น list ของจำนวนเต็ม โดยมีขนาดเท่ากัน\n",
        "ให้ return list ที่เป็นผลบวกของ list x และ y โดยใช้ list comprehension\n",
        "เขียนให้ function ชื่อ add2list(lst1,lst2)\n",
        "\n",
        "\n"
      ],
      "metadata": {
        "id": "S5dKtu4o96b-"
      }
    },
    {
      "cell_type": "code",
      "source": [
        "def add2list(lst1,lst2):\n",
        "  new_lst = [lst1[i] + lst2[i] for i in range(len(lst1))]\n",
        "  print(new_lst)\n",
        "\n",
        "add2list([1, 2, 3], [4, 5, 6]) #=> [5, 7, 9]\n",
        "add2list([-1, -2, -3], [1, 2, 3]) #=> [0, 0, 0]\n",
        "add2list([0, 0, 0], [10, 20, 30]) #=> [10, 20, 30]\n",
        "add2list([7, 8, 9], [3, 2, 1]) #=> [10, 10, 10]\n",
        "add2list([100, 200, 300], [400, 500, 600]) #=> [500, 700, 900]\n",
        "add2list([1, 2, 3, 4, 5], [6, 7, 8, 9, 10]) #=> [7, 9, 11, 13, 15]\n"
      ],
      "metadata": {
        "id": "L18pzqF5-AtR",
        "outputId": "60c80fda-89f5-4b59-87ec-4bb6726ba92d",
        "colab": {
          "base_uri": "https://localhost:8080/"
        }
      },
      "execution_count": 90,
      "outputs": [
        {
          "output_type": "stream",
          "name": "stdout",
          "text": [
            "[5, 7, 9]\n",
            "[0, 0, 0]\n",
            "[10, 20, 30]\n",
            "[10, 10, 10]\n",
            "[500, 700, 900]\n",
            "[7, 9, 11, 13, 15]\n"
          ]
        }
      ]
    },
    {
      "cell_type": "markdown",
      "source": [
        "1.\tกำหนดให้ m เป็น list ของ list ของ Integer ให้แปลง m ให้เป็น list ของ integer โดยใช้ List Comprehension โดยให้เขียนเป็น ฟังก์ชัน ชื่อ flatten_list(lst) และ return เป็น list คำตอบ\n",
        "- Input : [ [1, 2, 3], [4, 5, 6] ]\n",
        "- Output : [1, 2, 3, 4, 5, 6]\n"
      ],
      "metadata": {
        "id": "5HpBdNsU-4SW"
      }
    },
    {
      "cell_type": "code",
      "source": [
        "def flatten_list(lst):\n",
        "  f = [j for i in lst for j in i ]\n",
        "  print(f)\n",
        "  pass\n",
        "\n",
        "flatten_list([[1, 2, 3], [4, 5, 6]]) #=> [1, 2, 3, 4, 5, 6]\n",
        "flatten_list([[7, 8], [9, 10], [11, 12]]) #=> [7, 8, 9, 10, 11, 12]\n",
        "flatten_list([[0], [1], [2], [3]]) #=> [0, 1, 2, 3]\n",
        "flatten_list([[1, 1, 1], [2, 2], [3]]) #=> [1, 1, 1, 2, 2, 3]\n",
        "flatten_list([[5, 6, 7], [8], [9, 10]]) #=> [5, 6, 7, 8, 9, 10]\n"
      ],
      "metadata": {
        "id": "nfKGEY7d--zX",
        "outputId": "87142f6b-f11f-4f50-9ebc-7405820fcd38",
        "colab": {
          "base_uri": "https://localhost:8080/"
        }
      },
      "execution_count": 96,
      "outputs": [
        {
          "output_type": "stream",
          "name": "stdout",
          "text": [
            "[1, 2, 3, 4, 5, 6]\n",
            "[7, 8, 9, 10, 11, 12]\n",
            "[0, 1, 2, 3]\n",
            "[1, 1, 1, 2, 2, 3]\n",
            "[5, 6, 7, 8, 9, 10]\n"
          ]
        }
      ]
    },
    {
      "cell_type": "markdown",
      "source": [
        "2.\tกำหนดให้ s เป็น list ของ Integer ให้เขียนโปรแกรม ตัดตัวเลขที่ซ้ำกันใน list ให้เหลือเพียงตัวเลขเดียว โดยใช้ list comprehension (ห้ามใช้ set) โดยมีขั้นตอนดังนี้\n",
        "-\tเรียงลำดับข้อมูลใน list\n",
        "-\tสร้าง list ใหม่ โดยนำข้อมูลใน list ตัวที่ติดกันมาพิจารณาจากซ้ายไปขวา หากค่าไม่เท่ากันให้นำไปใส่ใน list ใหม่\n",
        "-\tนำตัวขวาสุด (ตัวสุดท้าย) เพิ่มเข้าไปใน list ใหม่ ก็จะได้ s ที่ไม่มีตัวซ้ำ\n",
        "-\tโดยให้เขียนเป็นฟังก์ชัน ชื่อ remove_duplicate(s)\n",
        "\n",
        "- Input : [1, 2, 3, 3, 4, 5, 6]\n",
        "- Output : [1, 2, 3, 4, 5, 6]\n",
        "\n",
        "ห้ามใช้ sort"
      ],
      "metadata": {
        "id": "_FXeyEnm_y8X"
      }
    },
    {
      "cell_type": "code",
      "source": [
        "def sortt(s):\n",
        "\n",
        "  for i in range(0, len(s)):\n",
        "    for j in range(i+1, len(s)):\n",
        "        if s[i] >= s[j]:\n",
        "            s[i], s[j] = s[j],s[i]\n",
        "  return s\n",
        "def remove_duplicate(s):\n",
        "\n",
        "  u = []\n",
        "  s = [lst for lst in s if lst not in u and not u.append(lst)]\n",
        "\n",
        "\n",
        "  print(sortt(u))\n",
        "\n",
        "remove_duplicate([1, 2, 3, 3, 4, 5, 6]) # => [1, 2, 3, 4, 5, 6]\n",
        "remove_duplicate([5, 1, 3, 3, 2, 5, 1])\n",
        "# => [1, 2, 3, 5]\n",
        "remove_duplicate([7, 7, 8, 8, 8, 9])\n",
        "# => [7, 8, 9]\n",
        "remove_duplicate([10, 10, 10, 10])\n",
        "# => [10]\n",
        "remove_duplicate([1, 2, 2, 3, 4, 4, 4, 5])\n",
        "# => [1, 2, 3, 4, 5]\n"
      ],
      "metadata": {
        "id": "iH8ceRWJ_5wq",
        "outputId": "40bcbf2e-d53c-4631-df92-cc572fc33d53",
        "colab": {
          "base_uri": "https://localhost:8080/"
        }
      },
      "execution_count": null,
      "outputs": [
        {
          "output_type": "stream",
          "name": "stdout",
          "text": [
            "[1, 2, 3, 4, 5, 6]\n",
            "[1, 2, 3, 5]\n",
            "[7, 8, 9]\n",
            "[10]\n",
            "[1, 2, 3, 4, 5]\n"
          ]
        }
      ]
    },
    {
      "cell_type": "markdown",
      "source": [
        "3.\tกำหนดให้มี 2 list คือ lst1 และ lst2 ให้ค้นหาสมาชิกที่มีในทั้ง 2 list โดยใช้ list comprehension\n",
        "(ห้ามใช้ set) โดยให้เขียนเป็นฟังก์ชันชื่อ common_member(lst1, lst2) โดย return เป็น list ที่มีสมาชิกทั้ง 2 list\n",
        "- Input : lst1 = [1, 2, 4, 5, 6] lst2 = [2, 3, 4]\n",
        "- Output : [2, 4]\n"
      ],
      "metadata": {
        "id": "f9smt54DAyYU"
      }
    },
    {
      "cell_type": "code",
      "source": [
        "def common_member(lst1, lst2):\n",
        "  common_lst =  [j for i in lst1 for j in lst2 if i == j]\n",
        "  print(common_lst)\n",
        "\n",
        "\n",
        "  pass\n",
        "\n",
        "common_member([1, 2, 4, 5, 6], [2, 3, 4]) #=> [2, 4]\n",
        "common_member([1, 2, 3, 4, 5], [6, 7, 8]) #=> []\n",
        "common_member([1, 2, 3, 4, 5], [1, 2, 3, 4, 5]) #=> [1, 2, 3, 4, 5]\n",
        "common_member([1, 2, 3, 4, 5], [5, 4, 3, 2, 1]) #=> [1, 2, 3, 4, 5]\n",
        "common_member([1, 2, 3, 4, 5], [6, 7, 8, 9, 10]) #=> []\n"
      ],
      "metadata": {
        "id": "3K2MCpiWA-tX",
        "outputId": "ee0ae8ce-db84-4587-d433-de200b0c44aa",
        "colab": {
          "base_uri": "https://localhost:8080/"
        }
      },
      "execution_count": null,
      "outputs": [
        {
          "output_type": "stream",
          "name": "stdout",
          "text": [
            "[2, 4]\n",
            "[]\n",
            "[1, 2, 3, 4, 5]\n",
            "[1, 2, 3, 4, 5]\n",
            "[]\n"
          ]
        }
      ]
    },
    {
      "cell_type": "markdown",
      "source": [
        "4.\tกำหนดให้ s เป็น String ให้เขียนโปรแกรมโดยใช้ List comprehension โดยให้ตัดตัวอักษรภาษาอังกฤษที่เป็นสระ a, e, i, o, u ออกจากประโยคให้หมด เช่น\n",
        "\n",
        "- Input : “common_member” จะได้ Output เป็น “cmmn mmbr”\n",
        "\n"
      ],
      "metadata": {
        "id": "V71CdsnEBWu8"
      }
    },
    {
      "cell_type": "code",
      "source": [
        "def remove_vowels(s):\n",
        "  c = \"aeiou\"\n",
        "  x = [i for i in s.lower() if i not in c]\n",
        "  print(\"\".join(x))\n",
        "\n",
        "remove_vowels(\"common_member\") #=> \"cmmn_mmbr\"\n",
        "remove_vowels(\"hello world\") #=> \"hll wrld\"\n",
        "remove_vowels(\"aeiou\") #=> \"\"\n",
        "remove_vowels(\"qwertyuiop\") #=> \"qwert\n",
        "remove_vowels(\"abcdefghijklmnopqrstuvwxyz\") #=> \"bcdfghjklmnp"
      ],
      "metadata": {
        "id": "UNjxlDMqBcSz",
        "outputId": "6d13c268-40c7-4ea9-dca9-10e44bdf460b",
        "colab": {
          "base_uri": "https://localhost:8080/"
        }
      },
      "execution_count": null,
      "outputs": [
        {
          "output_type": "stream",
          "name": "stdout",
          "text": [
            "cmmn_mmbr\n",
            "hll wrld\n",
            "\n",
            "qwrtyp\n",
            "bcdfghjklmnpqrstvwxyz\n"
          ]
        }
      ]
    },
    {
      "cell_type": "markdown",
      "source": [
        "5.\tให้เขียนโปรแกรมรับ list ของจำนวนเต็มชุดหนึ่ง โดย list นี้จะมีสมาชิกพิเศษอยู่ที่ตัวสุดท้าย ซึ่งจะมีค่าเป็นลบเสมอ (สมาชิกตัวอื่นเป็นบวกหรือลบก็ได้) ให้สร้าง list ใหม่ที่เกิดจากสมาชิกทุกตัว (ยกเว้นตัวสุดท้าย) ลบด้วยสมาชิกตัวสุดท้าย\n",
        "- Input : [1, 10, 2, -5]\n",
        "- Output: [-4, 5, -3]\n",
        "- Input : [100, 0, -1]\n",
        "- Output: [99, -1]\n",
        "- Input : [3, -3]\n",
        "\n"
      ],
      "metadata": {
        "id": "Zo07ebrTBjgA"
      }
    },
    {
      "cell_type": "code",
      "source": [
        "def remove_last_element(lst):\n",
        "  new_lst = [lst[i] + lst[-1] for i in range(len(lst)-1)]\n",
        "  print(new_lst)\n",
        "\n",
        "remove_last_element([1, 10, 2, -5]) #=> [-4, 5, -3]\n",
        "remove_last_element([100, 0, -1]) #=> [99, -1]\n",
        "remove_last_element([3, -3]) #=> [0]\n",
        "\n"
      ],
      "metadata": {
        "id": "cSSMJX5fBi8-",
        "outputId": "399f8f94-2959-4158-d2a2-7201f3f3d2bf",
        "colab": {
          "base_uri": "https://localhost:8080/"
        }
      },
      "execution_count": 106,
      "outputs": [
        {
          "output_type": "stream",
          "name": "stdout",
          "text": [
            "[-4, 5, -3]\n",
            "[99, -1]\n",
            "[0]\n"
          ]
        }
      ]
    },
    {
      "cell_type": "markdown",
      "source": [
        "6.\tกำหนดให้ s เป็น String ให้เขียนโปรแกรมเพื่อหา คำ ที่มีความยาวน้อยกว่า 5 ตัวอักษร โดยใช้ list comprehension\n",
        "- Input : “A total of 16 playable characters!”\n",
        "- Output : “A total of 16”\n",
        "\n"
      ],
      "metadata": {
        "id": "kguZ7w78CP0W"
      }
    },
    {
      "cell_type": "code",
      "source": [
        "def find_short_words(s):\n",
        "  s = s.split()\n",
        "\n",
        "  f  = [i for i in s if len(i) < 5 ]\n",
        "  print(\" \".join(f))\n",
        "\n",
        "find_short_words(\"A total of 16 playable characters!\") #=> \"A of 16\"\n",
        "find_short_words(\"The quick brown fox jumps over the lazy dog\") #=> \"The fox over the dog\"\n",
        "find_short_words(\"Python is a great programming language\") #=> \"is a\"\n",
        "find_short_words(\"Short words are kept short and long words are ignored\") #=> \"are kept and are\"\n"
      ],
      "metadata": {
        "id": "IN6wcH_WCVJv",
        "outputId": "4808b24c-ca01-4e09-e39b-6fb1bdfdbabe",
        "colab": {
          "base_uri": "https://localhost:8080/"
        }
      },
      "execution_count": null,
      "outputs": [
        {
          "output_type": "stream",
          "name": "stdout",
          "text": [
            "A of 16\n",
            "The fox over the lazy dog\n",
            "is a\n",
            "are kept and long are\n"
          ]
        }
      ]
    },
    {
      "cell_type": "markdown",
      "source": [
        "7.\tให้เขียนโปรแกรมเพื่อคำนวณหา rank ของรหัสนักศึกษาที่กำหนด โดยให้เรียงตามคะแนน โดย rank = 1 คือ มีคะแนนสูงสุด โดยใช้ list comprehension\n",
        "กำหนดให้มีข้อมูล s_score มีตัวอย่างดังนี้\n",
        "\n",
        "s_score = [\t[‘65015001’, 87.25],\n",
        "\t\t[‘65015002’, 77.00],\n",
        "\t\t[‘65015003’, 82.50],\n",
        "\t\t[‘65015004’, 69.75],\n",
        "\t\t[‘65015005’, 66.00]  ]\n",
        "    \n",
        "ให้เขียนฟังก์ชัน find_rank( s_score, stu_id ) โดย s_score เป็น list ของคะแนน และ std_id เป็นรหัสนักศึกษาที่ต้องการหา rank\n",
        "เช่น find_rank ( s_score, ‘65015004’) จะ return 4 เพราะมีคะแนนเป็นอันดับ 4\n"
      ],
      "metadata": {
        "id": "yioC3udBDK3M"
      }
    },
    {
      "cell_type": "code",
      "source": [
        "def find_rank(s_score, stu_id):\n",
        "    student_scores = [score for student_id, score in s_score if student_id == stu_id]\n",
        "\n",
        "    if not student_scores:\n",
        "        return \"Not found\"\n",
        "\n",
        "    student_score = student_scores[0]\n",
        "\n",
        "    all_scores = [score for student_id, score in s_score]\n",
        "\n",
        "    rank = len([score for score in all_scores if score > student_score]) + 1\n",
        "\n",
        "    return rank\n",
        "\n",
        "\n",
        "\n",
        "\n",
        "s_score = [['65015001', 87.25], ['65015002', 77.00], ['65015003', 82.50], ['65015004', 69.75], ['65015005', 66.00]]\n",
        "print(find_rank(s_score, '65015004')) # Output: 4\n",
        "\n",
        "s_score = [['65015001', 90.00], ['65015002', 80.00], ['65015003', 85.00], ['65015004', 70.00], ['65015005', 60.00]]\n",
        "print(find_rank(s_score, '65015002'))  # Output: 2\n",
        "\n",
        "s_score = [['65015001', 95.00], ['65015002', 95.00], ['65015003', 90.00], ['65015004', 85.00], ['65015005', 80.00]]\n",
        "print(find_rank(s_score, '65015001'))  # Output: 1\n",
        "\n",
        "s_score = [['65015001', 50.00], ['65015002', 60.00], ['65015003', 70.00], ['65015004', 80.00], ['65015005', 90.00]]\n",
        "print(find_rank(s_score, '65015005'))  # Output: 1\n",
        "\n",
        "s_score = [['65015001', 55.00], ['65015002', 65.00], ['65015003', 75.00], ['65015004', 85.00], ['65015005', 95.00]]\n",
        "print(find_rank(s_score, '65015003'))  # Output: 3"
      ],
      "metadata": {
        "id": "72EkAIBjDTO_",
        "outputId": "6e67641a-c3bf-48da-ab2a-dce71126e6e6",
        "colab": {
          "base_uri": "https://localhost:8080/"
        }
      },
      "execution_count": 158,
      "outputs": [
        {
          "output_type": "stream",
          "name": "stdout",
          "text": [
            "4\n",
            "3\n",
            "1\n",
            "1\n",
            "3\n"
          ]
        }
      ]
    },
    {
      "cell_type": "markdown",
      "source": [
        "8.\tให้เขียนโปรแกรม เพื่อหาข้อมูลที่มีความถี่มากกว่าครึ่งหนึ่งของจำนวนข้อมูลที่รับเข้ามา แต่ถ้าไม่พบให้แสดง Not found โดยใช้ list comprehension\n",
        "\n",
        "- เช่น \t[4, 5, 5, 10] ได้ผลลัพธ์เป็น Not found\n",
        "-\t[4, 5, 5] ได้ผลลัพธ์เป็น 5\n",
        "-\t[10, 5, 5, 3, 5] ได้ผลลัพธ์เป็น 5\n",
        "-\t[2, 4, 2, 4, 2, 4] ได้ผลลัพธ์เป็น Not found\n",
        "\n",
        "ให้เขียนเป็นฟังก์ชัน ชื่อ more_than_half(n_list) โดย n_list เป็นข้อมูลนำเข้า และ return เป็นผลลัพธ์ หรือ Not found\n"
      ],
      "metadata": {
        "id": "oJGkdpmfEH2e"
      }
    },
    {
      "cell_type": "code",
      "source": [
        "def more_than_half(n_list):\n",
        "  unique_elements = list(set(n_list))\n",
        "\n",
        "  new_lst = [i for i in unique_elements if n_list.count(i) > len(n_list) // 2 ]\n",
        "  if len(new_lst) == 0:\n",
        "    print(\"Not found\")\n",
        "  else:\n",
        "     print(new_lst[0])\n",
        "\n",
        "more_than_half([4, 5, 5, 10]) #=> \"Not found\"\n",
        "more_than_half([4, 5, 5]) #=> 5\n",
        "more_than_half([10, 5, 5, 3, 5]) #=> 5\n",
        "more_than_half([2, 4, 2, 4, 2, 4]) #=> \"Not found\"\n"
      ],
      "metadata": {
        "id": "ahXL6sfbEQUQ",
        "outputId": "5779b0cd-3046-4694-ddb7-ddb8a5c27a5c",
        "colab": {
          "base_uri": "https://localhost:8080/"
        }
      },
      "execution_count": 127,
      "outputs": [
        {
          "output_type": "stream",
          "name": "stdout",
          "text": [
            "Not found\n",
            "5\n",
            "5\n",
            "Not found\n"
          ]
        }
      ]
    },
    {
      "cell_type": "markdown",
      "source": [
        "9.\tจงเขียนโปรแกรมในแบบ recursion เพื่อกลับ String เช่น\n",
        "- Input : 'desserts'\n",
        "- Output : 'stressed'\n"
      ],
      "metadata": {
        "id": "0oTFJs2PEkL5"
      }
    },
    {
      "cell_type": "code",
      "source": [
        "def reverse_string (str):\n",
        "  if len(str) <= 1:\n",
        "    return str\n",
        "  return reverse_string(str[1:]) + str[0]\n",
        "\n",
        "\n",
        "print(reverse_string('desserts'))"
      ],
      "metadata": {
        "id": "_h5KwR9WEo7e",
        "outputId": "95d4d2e6-b50e-4a6a-c110-efe078f51333",
        "colab": {
          "base_uri": "https://localhost:8080/"
        }
      },
      "execution_count": 134,
      "outputs": [
        {
          "output_type": "stream",
          "name": "stdout",
          "text": [
            "stressed\n"
          ]
        }
      ]
    }
  ]
}